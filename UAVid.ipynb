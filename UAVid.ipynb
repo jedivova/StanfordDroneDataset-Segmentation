{
 "cells": [
  {
   "cell_type": "code",
   "execution_count": 2,
   "metadata": {},
   "outputs": [],
   "source": [
    "from __future__ import print_function\n",
    "from ipywidgets import interact, interactive, fixed, interact_manual\n",
    "import ipywidgets as widjets\n",
    "%matplotlib inline\n",
    "\n",
    "import numpy as np\n",
    "from torchvision import datasets, models, transforms\n",
    "import torch\n",
    "import torch.nn as nn\n",
    "import torch.nn.functional as F\n",
    "from PIL import Image\n",
    "import pandas as pd\n",
    "\n",
    "import matplotlib.pyplot as plt\n",
    "\n",
    "import os\n",
    "import shutil\n",
    "import cv2\n",
    "from copy import deepcopy\n",
    "\n",
    "from sklearn.model_selection import train_test_split\n",
    "import itertools\n",
    "import matplotlib.pyplot as plt\n",
    "\n",
    "from torch.utils.data import Dataset, DataLoader, WeightedRandomSampler\n",
    "from time import time\n",
    "from tqdm import tqdm, tqdm_notebook\n",
    "\n",
    "from sklearn.metrics import precision_score, recall_score, roc_auc_score, confusion_matrix\n",
    "from sklearn import metrics\n",
    "import json\n",
    "\n",
    "from pathlib import Path\n",
    "import segmentation_models_pytorch as smp"
   ]
  },
  {
   "cell_type": "markdown",
   "metadata": {},
   "source": [
    "UAVid Dataset!\n",
    "\n",
    "\n",
    "\n",
    "![](https://uavid.nl/UAVid_files/imgs/UAVid_example.png)"
   ]
  },
  {
   "cell_type": "code",
   "execution_count": 17,
   "metadata": {},
   "outputs": [],
   "source": [
    "CLASS_TABLE = [{'name': 'Clutter','color':[0, 0, 0], 'class_num':0},\n",
    "            {'name': 'Building','color':[128, 0, 0],'class_num':2},\n",
    "            {'name': 'Road','color':[128, 64, 128],'class_num':1},\n",
    "            {'name': 'Static_Car','color':[192, 0, 192],'class_num':4},\n",
    "            {'name': 'Tree','color':[0, 128, 0],'class_num':0},\n",
    "            {'name': 'Vegetation','color':[128, 128, 0],'class_num':0},\n",
    "            {'name': 'Human','color':[64, 64, 0],'class_num':3},\n",
    "            {'name': 'Moving_Car','color':[64, 0, 128],'class_num':4}]\n",
    "\n",
    "def make_labeled_mask(img, CLASS_TABLE):\n",
    "    img = img.copy()\n",
    "    mask = np.zeros(img.shape[:2], dtype=np.int32)\n",
    "\n",
    "    for cls in CLASS_TABLE:\n",
    "        c = cls['color']\n",
    "        label = (img[:,:,0] == c[0]) & (img[:,:,1] == c[1]) & (img[:,:,2] == c[2])\n",
    "        \n",
    "        if cls['name'] == 'Human': # сделаем метки хуманов более жирными\n",
    "            a = label.astype(np.uint8)\n",
    "            b = cv2.dilate(a,np.ones((5,5),np.uint8),iterations = 10)\n",
    "            label = b==1\n",
    "        mask[label] = cls['class_num']\n",
    "    return mask\n"
   ]
  },
  {
   "cell_type": "code",
   "execution_count": 18,
   "metadata": {},
   "outputs": [
    {
     "name": "stderr",
     "output_type": "stream",
     "text": [
      "c:\\python37\\lib\\site-packages\\ipykernel_launcher.py:4: TqdmDeprecationWarning: This function will be removed in tqdm==5.0.0\n",
      "Please use `tqdm.notebook.tqdm` instead of `tqdm.tqdm_notebook`\n",
      "  after removing the cwd from sys.path.\n"
     ]
    },
    {
     "data": {
      "application/vnd.jupyter.widget-view+json": {
       "model_id": "089d2b61943143218e2359d9990f06a1",
       "version_major": 2,
       "version_minor": 0
      },
      "text/plain": [
       "HBox(children=(FloatProgress(value=0.0, max=42.0), HTML(value='')))"
      ]
     },
     "metadata": {},
     "output_type": "display_data"
    },
    {
     "name": "stdout",
     "output_type": "stream",
     "text": [
      "\n"
     ]
    }
   ],
   "source": [
    "def create_save_masks():\n",
    "    seq_paths = list(Path(r'Q:\\Downloads\\uavid_v1.5_official_release_image').glob(r'*\\seq*'))\n",
    "\n",
    "    for seq_p in tqdm_notebook(seq_paths):\n",
    "        Labels_path = seq_p.joinpath('Labels')\n",
    "        Masks_path = seq_p.joinpath('Masks')\n",
    "        if not Masks_path.is_dir():\n",
    "            Masks_path.mkdir()\n",
    "            assert Masks_path.is_dir(), 'Fail to create directory:%s'%(str(Masks_path))\n",
    "\n",
    "        labels = Labels_path.glob('*.png')\n",
    "        for lbl_p in labels:\n",
    "            img = cv2.cvtColor(cv2.imread(str(lbl_p)), cv2.COLOR_BGR2RGB)\n",
    "            mask = make_labeled_mask(img, CLASS_TABLE)\n",
    "            mask_path = Masks_path.joinpath(lbl_p.name)\n",
    "            cv2.imwrite(str(mask_path), mask)\n",
    "            \n",
    "create_save_masks()"
   ]
  },
  {
   "cell_type": "code",
   "execution_count": 3,
   "metadata": {},
   "outputs": [],
   "source": [
    "Train_PATH = Path(r'Q:\\Downloads\\uavid_v1.5_official_release_image\\uavid_train')\n",
    "Val_PATH = Path(r'Q:\\Downloads\\uavid_v1.5_official_release_image\\uavid_val')"
   ]
  },
  {
   "cell_type": "code",
   "execution_count": 4,
   "metadata": {},
   "outputs": [],
   "source": [
    "class UAVid_dataset(Dataset):\n",
    "    CLASSES = ['Clutter', 'Building', 'Road', 'Car', 'Tree', 'Vegetation', 'Human']\n",
    "    \n",
    "    def __init__(self, data_path, augmentations=None, preprocessing=None) -> None:\n",
    "        self.augmentations = augmentations\n",
    "        self.preprocessing = preprocessing\n",
    "        self.class_num = 7\n",
    "        self.dataset = self.get_data_paths(data_path)\n",
    "    \n",
    "    def get_data_paths(self, dataset_path):\n",
    "        dataset = []\n",
    "        img_list = list(Path(dataset_path).glob('seq*\\Images\\*.png'))\n",
    "        print(f'found {len(img_list)} images')\n",
    "        for img_path in img_list:\n",
    "            mask_path = list(img_path.parents)[1].joinpath('Masks', img_path.name)\n",
    "            dataset.append({'img_path': img_path, 'mask_path': mask_path})\n",
    "        return dataset\n",
    "    \n",
    "    def __len__(self) -> int:\n",
    "        return len(self.dataset)\n",
    "\n",
    "    def __getitem__(self, idx: int) -> dict:\n",
    "        image = cv2.imread(str(self.dataset[idx]['img_path']))[:,:,::-1]\n",
    "        mask  = cv2.imread(str(self.dataset[idx]['mask_path']))[:,:,0]\n",
    "        \n",
    "        masks = [(mask == v) for v in range(self.class_num)]\n",
    "        mask = np.stack(masks, axis=-1).astype('float')\n",
    "        \n",
    "        result = {\"image\": image, \"mask\": mask}\n",
    "        \n",
    "        if self.augmentations is not None:\n",
    "            result = self.augmentations(**result)\n",
    "            \n",
    "        # apply preprocessing\n",
    "        if self.preprocessing:\n",
    "            result = self.preprocessing(**result)\n",
    "        \n",
    "        return result['image'], result['mask']\n"
   ]
  },
  {
   "cell_type": "code",
   "execution_count": 5,
   "metadata": {},
   "outputs": [
    {
     "name": "stdout",
     "output_type": "stream",
     "text": [
      "found 50 images\n"
     ]
    },
    {
     "data": {
      "application/vnd.jupyter.widget-view+json": {
       "model_id": "db89cadc76454c67878ebf85acb2bcfc",
       "version_major": 2,
       "version_minor": 0
      },
      "text/plain": [
       "interactive(children=(IntSlider(value=0, description='i', max=49), IntSlider(value=1, description='mask_ch', m…"
      ]
     },
     "metadata": {},
     "output_type": "display_data"
    }
   ],
   "source": [
    "DS = UAVid_dataset(Val_PATH)\n",
    "@interact(i=(0,len(DS)-1, 1), mask_ch=(0,6,1))\n",
    "def tst(i=0,mask_ch=1):\n",
    "    img, mask = DS[i]\n",
    "\n",
    "    plt.figure(figsize=(26, 36))\n",
    "    plt.subplot(1, 2, 1)\n",
    "    plt.imshow(img)\n",
    "    plt.title(f\"{'Original Image'}\")\n",
    "\n",
    "    plt.subplot(1, 2, 2)\n",
    "    plt.imshow(mask[:,:,mask_ch])\n",
    "    plt.title('MASK')"
   ]
  },
  {
   "cell_type": "markdown",
   "metadata": {},
   "source": [
    "# AUGMENTATIONS"
   ]
  },
  {
   "cell_type": "markdown",
   "metadata": {},
   "source": [
    " ### Поскольку Stanford Drone Dataset (SDD) в крайне плачевном качестве (все заблюрено, жипег пожрал) - инференс буду проводить на полных картинках (без уменьшения). в SDD картинки размера ~1300х1300 с размером человечка ~25х25. Буду отталкиваться от размера человечка.\n",
    "\n",
    "### Да у UAVid датасета, домен картинок чуть другой, поэтому буду максимально близко (к SDD) семплировать картинки. Т.е. посмотрим размеры человечков в UAVid."
   ]
  },
  {
   "cell_type": "code",
   "execution_count": 322,
   "metadata": {},
   "outputs": [
    {
     "name": "stdout",
     "output_type": "stream",
     "text": [
      "Q:\\Downloads\\uavid_v1.5_official_release_image\\uavid_train\\seq1\\Masks\\000000.png\n"
     ]
    },
    {
     "data": {
      "text/plain": [
       "<matplotlib.image.AxesImage at 0x1ebcebf1f48>"
      ]
     },
     "execution_count": 322,
     "metadata": {},
     "output_type": "execute_result"
    },
    {
     "data": {
      "image/png": "[encoded data removed]",
      "text/plain": [
       "<Figure size 432x288 with 1 Axes>"
      ]
     },
     "metadata": {
      "needs_background": "light"
     },
     "output_type": "display_data"
    }
   ],
   "source": [
    "mask_paths = list(Path(r'Q:\\Downloads\\uavid_v1.5_official_release_image\\uavid_train').glob('*\\Masks\\*.png'))\n",
    "mask = cv2.imread(str(mask_paths[0]))[:,:,0]\n",
    "mask = mask==6\n",
    "print(str(mask_paths[0]))\n",
    "plt.imshow(mask)"
   ]
  },
  {
   "cell_type": "markdown",
   "metadata": {},
   "source": [
    "### Поскольку маски отдельных людей слиплись, попробуем их разделить watershed'ом"
   ]
  },
  {
   "cell_type": "code",
   "execution_count": 308,
   "metadata": {},
   "outputs": [
    {
     "data": {
      "text/plain": [
       "<matplotlib.image.AxesImage at 0x1ebca280e88>"
      ]
     },
     "execution_count": 308,
     "metadata": {},
     "output_type": "execute_result"
    },
    {
     "data": {
      "image/png": "[encoded data removed]",
      "text/plain": [
       "<Figure size 720x720 with 2 Axes>"
      ]
     },
     "metadata": {
      "needs_background": "light"
     },
     "output_type": "display_data"
    }
   ],
   "source": [
    "def watershed(img):\n",
    "    kernel = np.ones((3,3),np.int32)\n",
    "\n",
    "    sure_bg = cv2.dilate(img,kernel,iterations=3)\n",
    "\n",
    "    dist_transform = cv2.distanceTransform(img,cv2.DIST_L2,5)\n",
    "    ret, sure_fg = cv2.threshold(dist_transform,10,255,0)\n",
    "\n",
    "    sure_fg = np.uint8(sure_fg)\n",
    "    unknown = cv2.subtract(sure_bg,sure_fg)\n",
    "\n",
    "    # Marker labelling\n",
    "    ret, markers = cv2.connectedComponents(sure_fg)\n",
    "    # Add one to all labels so that sure background is not 0, but 1\n",
    "    markers = markers+1\n",
    "    # Now, mark the region of unknown with zero\n",
    "    markers[unknown==255] = 0\n",
    "\n",
    "    mask_instance = cv2.watershed(np.stack([img,img,img], axis=-1), markers)\n",
    "          \n",
    "    return mask_instance\n",
    "\n",
    "img = (mask[1200:1750, 2000:2500]*255).astype(np.uint8)\n",
    "plt.figure(figsize=(10,10))\n",
    "plt.subplot(1,2,1)\n",
    "plt.title(f\"{'Orig mask'}\")\n",
    "plt.imshow(img)\n",
    "\n",
    "\n",
    "mask_instance = watershed(img)\n",
    "plt.subplot(1,2,2)\n",
    "plt.title(f\"{'Instances'}\")\n",
    "plt.imshow(mask_instance)"
   ]
  },
  {
   "cell_type": "code",
   "execution_count": 332,
   "metadata": {},
   "outputs": [
    {
     "name": "stderr",
     "output_type": "stream",
     "text": [
      "c:\\python37\\lib\\site-packages\\ipykernel_launcher.py:4: TqdmDeprecationWarning: This function will be removed in tqdm==5.0.0\n",
      "Please use `tqdm.notebook.tqdm` instead of `tqdm.tqdm_notebook`\n",
      "  after removing the cwd from sys.path.\n"
     ]
    },
    {
     "data": {
      "application/vnd.jupyter.widget-view+json": {
       "model_id": "dcba733b49b347e5bf94547993bea66c",
       "version_major": 2,
       "version_minor": 0
      },
      "text/plain": [
       "HBox(children=(FloatProgress(value=0.0, max=230.0), HTML(value='')))"
      ]
     },
     "metadata": {},
     "output_type": "display_data"
    },
    {
     "name": "stdout",
     "output_type": "stream",
     "text": [
      "\n"
     ]
    }
   ],
   "source": [
    "Y_max, X_max = [], []\n",
    "\n",
    "mask_paths = list(Path(r'Q:\\Downloads\\uavid_v1.5_official_release_image\\uavid_train').glob('*\\Masks\\*.png'))\n",
    "for mask_p in tqdm_notebook(mask_paths):\n",
    "    mask = cv2.imread(str(mask_p))[:,:,0]\n",
    "    mask = ((mask==6)*255).astype(np.uint8)\n",
    "    instance_mask = watershed(mask)\n",
    "    for lbl in np.unique(instance_mask)[2:]:\n",
    "        y,x = np.where(instance_mask==2)\n",
    "        Y_max.append(y.max() - y.min())\n",
    "        X_max.append(x.max()-x.min())"
   ]
  },
  {
   "cell_type": "code",
   "execution_count": 353,
   "metadata": {},
   "outputs": [
    {
     "data": {
      "text/plain": [
       "0"
      ]
     },
     "execution_count": 353,
     "metadata": {},
     "output_type": "execute_result"
    },
    {
     "data": {
      "image/png": "[encoded data removed]",
      "text/plain": [
       "<Figure size 1008x360 with 2 Axes>"
      ]
     },
     "metadata": {
      "needs_background": "light"
     },
     "output_type": "display_data"
    }
   ],
   "source": [
    "plt.figure(figsize=(14,5))\n",
    "plt.subplot(1,2,1)\n",
    "plt.title(f\"{'Y size'}\")\n",
    "plt.hist(Y_max, bins=np.linspace(0,120,50))\n",
    "\n",
    "plt.subplot(1,2,2)\n",
    "plt.title(f\"{'X size'}\")\n",
    "plt.hist(X_max, bins=np.linspace(0,120,50))\n",
    "0"
   ]
  },
  {
   "cell_type": "markdown",
   "metadata": {},
   "source": [
    "## Как оказалось - большая масса людей на снимках в датасете UAVid как раз размера 20-40 пикс, поэтому буду просто учить на кропах, не изменяя размер всей картинки."
   ]
  },
  {
   "cell_type": "code",
   "execution_count": null,
   "metadata": {},
   "outputs": [],
   "source": []
  },
  {
   "cell_type": "code",
   "execution_count": null,
   "metadata": {},
   "outputs": [],
   "source": []
  },
  {
   "cell_type": "code",
   "execution_count": null,
   "metadata": {},
   "outputs": [],
   "source": []
  },
  {
   "cell_type": "code",
   "execution_count": null,
   "metadata": {},
   "outputs": [],
   "source": []
  },
  {
   "cell_type": "code",
   "execution_count": null,
   "metadata": {},
   "outputs": [],
   "source": []
  },
  {
   "cell_type": "code",
   "execution_count": null,
   "metadata": {},
   "outputs": [],
   "source": []
  },
  {
   "cell_type": "code",
   "execution_count": 6,
   "metadata": {},
   "outputs": [],
   "source": [
    "import albumentations as albu\n",
    "from albumentations.pytorch import ToTensor\n",
    "\n",
    "BORDER_CONSTANT = 0\n",
    "BORDER_REFLECT = 2\n",
    "\n",
    "def pre_transforms(smallest_size=2160, crop_size=724):\n",
    "    return albu.Compose([\n",
    "#         albu.SmallestMaxSize(max_size=smallest_size, interpolation=cv2.INTER_LINEAR, always_apply=True),\n",
    "        albu.RandomCrop(crop_size,crop_size),\n",
    "#         albu.LongestMaxSize(max_size=crop_size),\n",
    "#         albu.PadIfNeeded(image_size, image_size, border_mode=BORDER_CONSTANT, value=0)\n",
    "    ])\n",
    "\n",
    "\n",
    "def hard_transforms():\n",
    "    return albu.Compose([\n",
    "        albu.ShiftScaleRotate (shift_limit=0, scale_limit=0.1, rotate_limit=180, interpolation=cv2.INTER_LINEAR, border_mode=cv2.BORDER_CONSTANT, value=(0,0,0), mask_value=0),\n",
    "        albu.HueSaturationValue(p=0.3),\n",
    "        albu.OneOf([\n",
    "            albu.IAAAdditiveGaussianNoise(),\n",
    "            albu.GaussNoise(),\n",
    "            albu.MultiplicativeNoise(multiplier=[0.5, 1.5], per_channel=True, p=1)\n",
    "        ], p=0.3),\n",
    "        albu.OneOf([\n",
    "            albu.MotionBlur(p=0.2),\n",
    "            albu.MedianBlur(blur_limit=3, p=0.1),\n",
    "            albu.Blur(blur_limit=3, p=0.1),\n",
    "        ], p=0.2),\n",
    "        albu.OneOf([\n",
    "            albu.CLAHE(clip_limit=2),\n",
    "            albu.IAASharpen(),\n",
    "            albu.IAAEmboss(),\n",
    "            albu.RandomBrightnessContrast(brightness_limit=0.2, contrast_limit=0.2, p=0.3),\n",
    "            albu.RandomGamma(gamma_limit=(85, 115), p=0.3),\n",
    "        ], p=0.3),\n",
    "        albu.JpegCompression(quality_lower=40, quality_upper=100, p=0.5),\n",
    "        albu.Cutout(num_holes=25, max_h_size=10, max_w_size=10, fill_value=0, p=0.5),\n",
    "        ], p=1)\n",
    "\n",
    "def post_transforms():\n",
    "    return albu.Compose([\n",
    "        albu.CenterCrop(height=512, width=512, p=1)],\n",
    "#         albu.Normalize(),\n",
    "#         ToTensor()],\n",
    "        p=1)\n",
    "\n",
    "\n",
    "def to_tensor(x, **kwargs):\n",
    "    return x.transpose(2, 0, 1).astype('float32')\n",
    "\n",
    "\n",
    "def get_preprocessing(preprocessing_fn):\n",
    "    _transform = [\n",
    "        albu.Lambda(image=preprocessing_fn),\n",
    "        albu.Lambda(image=to_tensor, mask=to_tensor),\n",
    "    ]\n",
    "    return albu.Compose(_transform)\n",
    "\n",
    "\n",
    "train_transforms = albu.Compose([\n",
    "    hard_transforms(),\n",
    "    post_transforms()\n",
    "])\n",
    "\n",
    "valid_transforms = albu.Compose([pre_transforms(), post_transforms()])\n",
    "\n",
    "show_transforms = albu.Compose([pre_transforms(), hard_transforms()])"
   ]
  },
  {
   "cell_type": "code",
   "execution_count": null,
   "metadata": {},
   "outputs": [],
   "source": []
  },
  {
   "cell_type": "code",
   "execution_count": 7,
   "metadata": {},
   "outputs": [
    {
     "name": "stdout",
     "output_type": "stream",
     "text": [
      "found 50 images\n"
     ]
    },
    {
     "data": {
      "application/vnd.jupyter.widget-view+json": {
       "model_id": "91d690e153d24d75aff644453fbf2eae",
       "version_major": 2,
       "version_minor": 0
      },
      "text/plain": [
       "interactive(children=(IntSlider(value=0, description='i', max=49), IntSlider(value=1, description='mask_ch', m…"
      ]
     },
     "metadata": {},
     "output_type": "display_data"
    }
   ],
   "source": [
    "Val_PATH = Path(r'Q:\\Downloads\\uavid_v1.5_official_release_image\\uavid_val')\n",
    "DS = UAVid_dataset(Val_PATH, augmentations=train_transforms)\n",
    "@interact(i=(0,len(DS)-1, 1), mask_ch=(0,6,1))\n",
    "def tst(i=0,mask_ch=1):\n",
    "    img, mask = DS[i]\n",
    "\n",
    "    plt.figure(figsize=(26, 36))\n",
    "    plt.subplot(1, 2, 1)\n",
    "    plt.imshow(img)\n",
    "    plt.title(f\"{'Original Image'}\")\n",
    "\n",
    "    plt.subplot(1, 2, 2)\n",
    "    plt.imshow(mask[:,:,mask_ch])\n",
    "    plt.title('MASK')"
   ]
  },
  {
   "cell_type": "markdown",
   "metadata": {},
   "source": [
    "# Model\n"
   ]
  },
  {
   "cell_type": "code",
   "execution_count": 5,
   "metadata": {},
   "outputs": [],
   "source": [
    "import segmentation_models_pytorch as smp\n",
    "\n",
    "ENCODER = 'mobilenet_v2'\n",
    "ENCODER_WEIGHTS = 'imagenet'\n",
    "\n",
    "model = smp.FPN(encoder_name=ENCODER, \n",
    "                 encoder_weights=ENCODER_WEIGHTS, \n",
    "                 classes=7\n",
    "               )\n",
    "\n",
    "preprocessing_fn = smp.encoders.get_preprocessing_fn(ENCODER, ENCODER_WEIGHTS)\n",
    "CLASSES = ['Clutter', 'Building', 'Road', 'Car', 'Tree', 'Vegetation', 'Human']"
   ]
  },
  {
   "cell_type": "code",
   "execution_count": 6,
   "metadata": {},
   "outputs": [
    {
     "name": "stdout",
     "output_type": "stream",
     "text": [
      "found 230 images\n",
      "found 40 images\n"
     ]
    }
   ],
   "source": [
    "def get_val_batches(valid_loader):\n",
    "    '''\n",
    "    We should validate model on the same images through epoches.\n",
    "    :return: list of batches\n",
    "    '''\n",
    "    Val_batches = []\n",
    "    for i in tqdm(range(10)):\n",
    "        for image, mask in tqdm(valid_loader):\n",
    "            Val_batches.append([image, mask])\n",
    "    return Val_batches\n",
    "\n",
    "\n",
    "batch_size = 1\n",
    "Train_PATH = r'Q:\\Downloads\\uavid_v1.5_official_release_image\\uavid_train'\n",
    "Val_PATH = r'Q:\\Downloads\\uavid_v1.5_official_release_image\\uavid_val'\n",
    "\n",
    "train_dataset = UAVid_dataset(Train_PATH, augmentations=train_transforms, preprocessing=get_preprocessing(preprocessing_fn))\n",
    "valid_dataset = UAVid_dataset(Val_PATH, augmentations=valid_transforms, preprocessing=get_preprocessing(preprocessing_fn))\n",
    "\n",
    "train_loader = DataLoader(train_dataset, batch_size=batch_size, shuffle=True, num_workers=0, pin_memory=True, drop_last=True)\n",
    "valid_loader = DataLoader(valid_dataset, batch_size=batch_size, shuffle=False, num_workers=0, pin_memory=True, drop_last=False)\n",
    "# valid_loader = get_val_batches(valid_loader)\n",
    "\n",
    "\n",
    "loaders = {\n",
    "    \"train\": train_loader,\n",
    "    \"valid\": valid_loader\n",
    "}"
   ]
  },
  {
   "cell_type": "code",
   "execution_count": 7,
   "metadata": {},
   "outputs": [],
   "source": [
    "from torch import nn\n",
    "from catalyst.contrib.nn import DiceLoss, IoULoss, RAdam, Lookahead, OneCycleLRWithWarmup\n",
    "from catalyst.dl import SupervisedRunner\n",
    "\n",
    "logdir = \"./logs\"\n",
    "num_epochs = 300\n",
    "learning_rate = 1e-3\n",
    "base_optimizer = RAdam([\n",
    "    {'params': model.decoder.parameters(), 'lr': learning_rate}, \n",
    "    {'params': model.encoder.parameters(), 'lr': 1e-4},\n",
    "    {'params': model.segmentation_head.parameters(), 'lr': learning_rate},\n",
    "], weight_decay=0.0003)\n",
    "optimizer = Lookahead(base_optimizer)\n",
    "criterion = {\n",
    "    \"dice\": DiceLoss(),\n",
    "    \"iou\": IoULoss(),\n",
    "    \"bce\": nn.BCEWithLogitsLoss()\n",
    "}\n",
    "runner = SupervisedRunner(device='cuda', input_key=\"image\", input_target_key=\"mask\")\n",
    "scheduler = OneCycleLRWithWarmup(\n",
    "    optimizer, \n",
    "    num_steps=num_epochs, \n",
    "    lr_range=(0.0016, 0.0000001),\n",
    "    init_lr = learning_rate,\n",
    "    warmup_steps=2\n",
    ")"
   ]
  },
  {
   "cell_type": "code",
   "execution_count": 8,
   "metadata": {},
   "outputs": [],
   "source": [
    "from catalyst.dl import DiceCallback, IouCallback, CriterionCallback, MetricAggregationCallback, ClasswiseIouCallback, WandbLogger\n",
    "\n",
    "callbacks = [\n",
    "    # Each criterion is calculated separately.\n",
    "    CriterionCallback(\n",
    "        input_key=\"mask\",\n",
    "        prefix=\"loss_dice\",\n",
    "        criterion_key=\"dice\"\n",
    "    ),\n",
    "    CriterionCallback(\n",
    "        input_key=\"mask\",\n",
    "        prefix=\"loss_iou\",\n",
    "        criterion_key=\"iou\"\n",
    "    ),\n",
    "    CriterionCallback(\n",
    "        input_key=\"mask\",\n",
    "        prefix=\"loss_bce\",\n",
    "        criterion_key=\"bce\"\n",
    "    ),\n",
    "#     ClasswiseIouCallback(\n",
    "#         input_key=\"mask\",\n",
    "#         prefix='iou_clswise',\n",
    "#         classes=CLASSES\n",
    "#     ),\n",
    "\n",
    "    # And only then we aggregate everything into one loss.\n",
    "    MetricAggregationCallback(\n",
    "        prefix=\"loss\",\n",
    "        mode=\"weighted_sum\", # can be \"sum\", \"weighted_sum\" or \"mean\"\n",
    "        # because we want weighted sum, we need to add scale for each loss\n",
    "        metrics={\"loss_dice\": 1.0, \"loss_iou\": 1.0, \"loss_bce\": 0.8},\n",
    "    ),\n",
    "\n",
    "    # metrics\n",
    "    DiceCallback(input_key=\"mask\"),\n",
    "#     IouCallback(input_key=\"mask\"),\n",
    "    \n",
    "    \n",
    "]\n"
   ]
  },
  {
   "cell_type": "code",
   "execution_count": null,
   "metadata": {},
   "outputs": [],
   "source": [
    "model.train()\n",
    "runner.train(\n",
    "    model=model,\n",
    "    criterion=criterion,\n",
    "    optimizer=optimizer,\n",
    "    scheduler=scheduler,\n",
    "    # our dataloaders\n",
    "    loaders=loaders,\n",
    "    # We can specify the callbacks list for the experiment;\n",
    "    callbacks=callbacks,\n",
    "    # path to save logs\n",
    "    logdir=logdir,\n",
    "    num_epochs=num_epochs,\n",
    "    # save our best checkpoint by Dice metric\n",
    "    main_metric=\"dice\",\n",
    "    minimize_metric=False,\n",
    "    fp16=dict(opt_level=\"O1\"),\n",
    "    verbose=True,\n",
    ")"
   ]
  },
  {
   "cell_type": "code",
   "execution_count": null,
   "metadata": {},
   "outputs": [],
   "source": []
  },
  {
   "cell_type": "code",
   "execution_count": null,
   "metadata": {},
   "outputs": [],
   "source": []
  },
  {
   "cell_type": "markdown",
   "metadata": {},
   "source": [
    "#  EVAL\n"
   ]
  },
  {
   "cell_type": "code",
   "execution_count": 2,
   "metadata": {},
   "outputs": [],
   "source": [
    "import segmentation_models_pytorch as smp\n",
    "\n",
    "ENCODER = 'timm-resnest14d'\n",
    "ENCODER_WEIGHTS = 'imagenet'\n",
    "\n",
    "model = smp.FPN(encoder_name=ENCODER, \n",
    "                 encoder_weights=ENCODER_WEIGHTS, \n",
    "                 classes=7\n",
    "               )\n",
    "\n",
    "preprocessing_fn = smp.encoders.get_preprocessing_fn(ENCODER, ENCODER_WEIGHTS)"
   ]
  },
  {
   "cell_type": "code",
   "execution_count": 3,
   "metadata": {},
   "outputs": [
    {
     "name": "stdout",
     "output_type": "stream",
     "text": [
      "model loaded\n"
     ]
    }
   ],
   "source": [
    "model.load_state_dict(torch.load(r'Z:\\test tasks\\Sber_robo\\project\\logs\\checkpoints\\best_full.pth')['model_state_dict'])\n",
    "model.eval().cuda()\n",
    "print('model loaded')"
   ]
  },
  {
   "cell_type": "code",
   "execution_count": null,
   "metadata": {},
   "outputs": [],
   "source": []
  },
  {
   "cell_type": "code",
   "execution_count": null,
   "metadata": {},
   "outputs": [],
   "source": []
  },
  {
   "cell_type": "code",
   "execution_count": null,
   "metadata": {},
   "outputs": [],
   "source": []
  },
  {
   "cell_type": "code",
   "execution_count": 7,
   "metadata": {},
   "outputs": [],
   "source": [
    "CLASSES = ['Clutter', 'Building', 'Road', 'Car', 'Tree', 'Vegetation', 'Human']\n",
    "DEFAULT_COLORS = ('red', 'blue', 'yellow', 'magenta', 'green', 'indigo', 'darkorange', 'cyan', 'pink', 'yellowgreen')\n",
    "\n",
    "import matplotlib.patches as mpatches\n",
    "import matplotlib.pyplot as plt\n",
    "\n",
    "patches = []\n",
    "for i, cls in enumerate(CLASSES):\n",
    "    patches.append(mpatches.Patch(color=DEFAULT_COLORS[i], label=cls))\n",
    "\n",
    "def mask_to_overlay_image(image, labels, mask_strength=0.5):\n",
    "    from skimage.color import label2rgb\n",
    "    \n",
    "    mask = label2rgb(labels, bg_label=-1) \n",
    "\n",
    "    image = np.array(image) / 255.0\n",
    "    image_with_overlay = image * (1 - mask_strength) + mask * mask_strength\n",
    "    image_with_overlay = (\n",
    "        (image_with_overlay * 255).clip(0, 255).round().astype(np.uint8)\n",
    "    )\n",
    "\n",
    "    return image_with_overlay"
   ]
  },
  {
   "cell_type": "markdown",
   "metadata": {},
   "source": [
    "## Inference on UAVid"
   ]
  },
  {
   "cell_type": "code",
   "execution_count": 9,
   "metadata": {},
   "outputs": [],
   "source": [
    "from project.transforms import valid_transforms"
   ]
  },
  {
   "cell_type": "code",
   "execution_count": 10,
   "metadata": {},
   "outputs": [
    {
     "name": "stderr",
     "output_type": "stream",
     "text": [
      "c:\\python37\\lib\\site-packages\\ipykernel_launcher.py:8: TqdmDeprecationWarning: This function will be removed in tqdm==5.0.0\n",
      "Please use `tqdm.notebook.tqdm` instead of `tqdm.tqdm_notebook`\n",
      "  \n"
     ]
    },
    {
     "data": {
      "application/vnd.jupyter.widget-view+json": {
       "model_id": "3a7acc9051f940bd8be76e3b5b63853f",
       "version_major": 2,
       "version_minor": 0
      },
      "text/plain": [
       "HBox(children=(FloatProgress(value=0.0, max=50.0), HTML(value='')))"
      ]
     },
     "metadata": {},
     "output_type": "display_data"
    },
    {
     "name": "stdout",
     "output_type": "stream",
     "text": [
      "\n"
     ]
    }
   ],
   "source": [
    "\n",
    "Val_PATH = r'Q:\\Downloads\\uavid_v1.5_official_release_image\\uavid_val'\n",
    "val_list = list(Path(Val_PATH).glob('seq*\\Images\\*.png'))\n",
    "\n",
    "Inference_images = []\n",
    "Inference_masks = []\n",
    "with torch.no_grad():\n",
    "    for img_p in tqdm_notebook(list(val_list)):\n",
    "        img = valid_transforms(image=cv2.imread(str(img_p))[:,:,::-1])['image']\n",
    "        tensor_img = preprocess_tr(image=img)['image'].unsqueeze(0)\n",
    "        preds = model(tensor_img.cuda())\n",
    "        \n",
    "        Inference_images.append(img)\n",
    "        Inference_masks.append(torch.argmax(preds[0], dim=0).cpu().detach().numpy())"
   ]
  },
  {
   "cell_type": "code",
   "execution_count": 11,
   "metadata": {},
   "outputs": [
    {
     "data": {
      "application/vnd.jupyter.widget-view+json": {
       "model_id": "661838ac8a7d4553a805cbd5b2ea79d9",
       "version_major": 2,
       "version_minor": 0
      },
      "text/plain": [
       "interactive(children=(IntSlider(value=0, description='i', max=49), Output()), _dom_classes=('widget-interact',…"
      ]
     },
     "metadata": {},
     "output_type": "display_data"
    }
   ],
   "source": [
    "@interact(i=(0,len(Inference_images)-1,1))\n",
    "def tst(i=0):\n",
    "    img = Inference_images[i]\n",
    "    masks = Inference_masks[i]\n",
    "    \n",
    "    plt.figure(figsize=(25,20))\n",
    "    plt.subplot(2,1,1)\n",
    "    plt.imshow(img)\n",
    "    \n",
    "    plt.subplot(2,1,2)\n",
    "    \n",
    "    a = mask_to_overlay_image(img, masks)\n",
    "    plt.legend(handles=patches, ncol=7, bbox_to_anchor=(0, 1),\n",
    "              loc='lower left', fontsize='small')\n",
    "    plt.imshow(a)\n"
   ]
  },
  {
   "cell_type": "code",
   "execution_count": null,
   "metadata": {},
   "outputs": [],
   "source": []
  },
  {
   "cell_type": "markdown",
   "metadata": {},
   "source": [
    "## Inference on SDD "
   ]
  },
  {
   "cell_type": "code",
   "execution_count": 30,
   "metadata": {},
   "outputs": [],
   "source": [
    "import albumentations as albu\n",
    "import cv2\n",
    "from albumentations.pytorch import ToTensor\n",
    "\n",
    "BORDER_CONSTANT = 0\n",
    "def pre_transforms(image_size):\n",
    "    return albu.Compose([\n",
    "        albu.LongestMaxSize(max_size=image_size, always_apply=True),\n",
    "        albu.PadIfNeeded(min_height=None, min_width=None, pad_height_divisor=32, pad_width_divisor=32, border_mode=BORDER_CONSTANT, value=0),\n",
    "    ])\n",
    "\n",
    "def Inference_transform(preprocessing_fn):\n",
    "    return albu.Compose([\n",
    "        albu.Lambda(name='my_transform', image=preprocessing_fn),\n",
    "        ToTensor(),\n",
    "    ])\n",
    "\n",
    "preprocess_tr = Inference_transform(preprocessing_fn)"
   ]
  },
  {
   "cell_type": "code",
   "execution_count": 31,
   "metadata": {},
   "outputs": [
    {
     "name": "stderr",
     "output_type": "stream",
     "text": [
      "c:\\python37\\lib\\site-packages\\ipykernel_launcher.py:6: TqdmDeprecationWarning: This function will be removed in tqdm==5.0.0\n",
      "Please use `tqdm.notebook.tqdm` instead of `tqdm.tqdm_notebook`\n",
      "  \n"
     ]
    },
    {
     "data": {
      "application/vnd.jupyter.widget-view+json": {
       "model_id": "4e43d70c93cd4a37bb9d40ace4889a67",
       "version_major": 2,
       "version_minor": 0
      },
      "text/plain": [
       "HBox(children=(FloatProgress(value=0.0, max=60.0), HTML(value='')))"
      ]
     },
     "metadata": {},
     "output_type": "display_data"
    },
    {
     "name": "stdout",
     "output_type": "stream",
     "text": [
      "\n"
     ]
    }
   ],
   "source": [
    "images_paths = Path(r'Q:\\Downloads\\stanford_campus_dataset\\annotations').glob('*/*/reference.jpg')\n",
    "\n",
    "Inference_images = []\n",
    "Inference_masks = []\n",
    "with torch.no_grad():\n",
    "    for img_p in tqdm_notebook(list(images_paths)):\n",
    "        img = cv2.imread(str(img_p))[:,:,::-1]\n",
    "        img = pre_transforms(max(img.shape[:2])/4)(image=img)['image']\n",
    "        \n",
    "        \n",
    "        tensor_img = preprocess_tr(image=img)['image'].unsqueeze(0)\n",
    "        preds = model(tensor_img.cuda())\n",
    "        \n",
    "        Inference_images.append(img)\n",
    "        Inference_masks.append(torch.argmax(preds[0], dim=0).cpu().detach().numpy())"
   ]
  },
  {
   "cell_type": "code",
   "execution_count": 32,
   "metadata": {},
   "outputs": [
    {
     "data": {
      "application/vnd.jupyter.widget-view+json": {
       "model_id": "f80fd24a4aad4181a7431b03b888217e",
       "version_major": 2,
       "version_minor": 0
      },
      "text/plain": [
       "interactive(children=(IntSlider(value=0, description='i', max=59), Output()), _dom_classes=('widget-interact',…"
      ]
     },
     "metadata": {},
     "output_type": "display_data"
    }
   ],
   "source": [
    "@interact(i=(0,len(Inference_images)-1,1))\n",
    "def tst(i=0):\n",
    "    img = Inference_images[i]\n",
    "    masks = Inference_masks[i]\n",
    "    \n",
    "    plt.figure(figsize=(15,20))\n",
    "    plt.subplot(1,2,1)\n",
    "    plt.imshow(img)\n",
    "    \n",
    "    plt.subplot(1,2,2)\n",
    "    \n",
    "    a = mask_to_overlay_image(img, masks)\n",
    "    plt.legend(handles=patches, ncol=7, bbox_to_anchor=(-0.1, 1),\n",
    "              loc='lower left', fontsize='small')\n",
    "    plt.imshow(a)\n"
   ]
  },
  {
   "cell_type": "markdown",
   "metadata": {},
   "source": [
    "### На деревьях, траве, зданиях, машинах +- работает. Людей эта модель ищет крайне плохо.\n",
    "### Метрик нету, т.к. разметки на эти классы в SDD нету."
   ]
  },
  {
   "cell_type": "code",
   "execution_count": null,
   "metadata": {},
   "outputs": [],
   "source": []
  },
  {
   "cell_type": "code",
   "execution_count": null,
   "metadata": {},
   "outputs": [],
   "source": []
  },
  {
   "cell_type": "code",
   "execution_count": 23,
   "metadata": {},
   "outputs": [],
   "source": []
  }
 ],
 "metadata": {
  "kernelspec": {
   "display_name": "Python 3",
   "language": "python",
   "name": "python3"
  },
  "language_info": {
   "codemirror_mode": {
    "name": "ipython",
    "version": 3
   },
   "file_extension": ".py",
   "mimetype": "text/x-python",
   "name": "python",
   "nbconvert_exporter": "python",
   "pygments_lexer": "ipython3",
   "version": "3.7.9"
  }
 },
 "nbformat": 4,
 "nbformat_minor": 2
}
