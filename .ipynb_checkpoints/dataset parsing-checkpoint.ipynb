{
 "cells": [
  {
   "cell_type": "code",
   "execution_count": 2,
   "metadata": {},
   "outputs": [],
   "source": [
    "from __future__ import print_function\n",
    "from ipywidgets import interact, interactive, fixed, interact_manual\n",
    "import ipywidgets as widjets\n",
    "%matplotlib inline\n",
    "\n",
    "import numpy as np\n",
    "from torchvision import datasets, models, transforms\n",
    "import torch\n",
    "import torch.nn as nn\n",
    "import torch.nn.functional as F\n",
    "from PIL import Image\n",
    "import pandas as pd\n",
    "\n",
    "import matplotlib.pyplot as plt\n",
    "\n",
    "import os\n",
    "import shutil\n",
    "import cv2\n",
    "from copy import deepcopy\n",
    "\n",
    "from sklearn.model_selection import train_test_split\n",
    "import itertools\n",
    "import matplotlib.pyplot as plt\n",
    "\n",
    "from torch.utils.data import Dataset, DataLoader, WeightedRandomSampler\n",
    "from time import time\n",
    "from tqdm import tqdm, tqdm_notebook\n",
    "\n",
    "from sklearn.metrics import precision_score, recall_score, roc_auc_score, confusion_matrix\n",
    "from sklearn import metrics\n",
    "import json\n",
    "from pathlib import Path"
   ]
  },
  {
   "cell_type": "code",
   "execution_count": 3,
   "metadata": {},
   "outputs": [],
   "source": [
    "annotation = pd.read_csv(r'Q:\\Downloads\\stanford_campus_dataset\\annotations\\nexus\\video3\\annotations.txt', header=None, delimiter=' ')"
   ]
  },
  {
   "cell_type": "code",
   "execution_count": 4,
   "metadata": {},
   "outputs": [
    {
     "data": {
      "text/plain": [
       "1061"
      ]
     },
     "execution_count": 4,
     "metadata": {},
     "output_type": "execute_result"
    }
   ],
   "source": [
    "annotation[5].max()"
   ]
  },
  {
   "cell_type": "code",
   "execution_count": 5,
   "metadata": {},
   "outputs": [
    {
     "data": {
      "text/plain": [
       "0         500\n",
       "270       770\n",
       "313       813\n",
       "333       833\n",
       "369       869\n",
       "         ... \n",
       "34556     580\n",
       "34567     591\n",
       "34580     604\n",
       "34599     623\n",
       "35007    1031\n",
       "Name: 5, Length: 640, dtype: int64"
      ]
     },
     "execution_count": 5,
     "metadata": {},
     "output_type": "execute_result"
    }
   ],
   "source": [
    "ann = annotation\n",
    "# ann[(ann[5]==950) & (ann[6]!=1) & (ann[7]!=1)]\n",
    "ann[ann[8]==0][5]"
   ]
  },
  {
   "cell_type": "code",
   "execution_count": 6,
   "metadata": {},
   "outputs": [
    {
     "data": {
      "text/html": [
       "<div>\n",
       "<style scoped>\n",
       "    .dataframe tbody tr th:only-of-type {\n",
       "        vertical-align: middle;\n",
       "    }\n",
       "\n",
       "    .dataframe tbody tr th {\n",
       "        vertical-align: top;\n",
       "    }\n",
       "\n",
       "    .dataframe thead th {\n",
       "        text-align: right;\n",
       "    }\n",
       "</style>\n",
       "<table border=\"1\" class=\"dataframe\">\n",
       "  <thead>\n",
       "    <tr style=\"text-align: right;\">\n",
       "      <th></th>\n",
       "      <th>0</th>\n",
       "      <th>1</th>\n",
       "      <th>2</th>\n",
       "      <th>3</th>\n",
       "      <th>4</th>\n",
       "      <th>5</th>\n",
       "      <th>6</th>\n",
       "      <th>7</th>\n",
       "      <th>8</th>\n",
       "      <th>9</th>\n",
       "    </tr>\n",
       "  </thead>\n",
       "  <tbody>\n",
       "    <tr>\n",
       "      <th>624</th>\n",
       "      <td>1</td>\n",
       "      <td>391</td>\n",
       "      <td>1004</td>\n",
       "      <td>414</td>\n",
       "      <td>1048</td>\n",
       "      <td>62</td>\n",
       "      <td>1</td>\n",
       "      <td>0</td>\n",
       "      <td>1</td>\n",
       "      <td>Pedestrian</td>\n",
       "    </tr>\n",
       "    <tr>\n",
       "      <th>3372</th>\n",
       "      <td>5</td>\n",
       "      <td>9</td>\n",
       "      <td>978</td>\n",
       "      <td>36</td>\n",
       "      <td>1015</td>\n",
       "      <td>62</td>\n",
       "      <td>1</td>\n",
       "      <td>0</td>\n",
       "      <td>1</td>\n",
       "      <td>Pedestrian</td>\n",
       "    </tr>\n",
       "    <tr>\n",
       "      <th>4434</th>\n",
       "      <td>6</td>\n",
       "      <td>223</td>\n",
       "      <td>916</td>\n",
       "      <td>246</td>\n",
       "      <td>971</td>\n",
       "      <td>62</td>\n",
       "      <td>1</td>\n",
       "      <td>0</td>\n",
       "      <td>1</td>\n",
       "      <td>Pedestrian</td>\n",
       "    </tr>\n",
       "    <tr>\n",
       "      <th>5558</th>\n",
       "      <td>8</td>\n",
       "      <td>44</td>\n",
       "      <td>967</td>\n",
       "      <td>82</td>\n",
       "      <td>1018</td>\n",
       "      <td>62</td>\n",
       "      <td>1</td>\n",
       "      <td>0</td>\n",
       "      <td>1</td>\n",
       "      <td>Pedestrian</td>\n",
       "    </tr>\n",
       "    <tr>\n",
       "      <th>6620</th>\n",
       "      <td>9</td>\n",
       "      <td>1100</td>\n",
       "      <td>982</td>\n",
       "      <td>1123</td>\n",
       "      <td>1033</td>\n",
       "      <td>62</td>\n",
       "      <td>1</td>\n",
       "      <td>0</td>\n",
       "      <td>1</td>\n",
       "      <td>Pedestrian</td>\n",
       "    </tr>\n",
       "    <tr>\n",
       "      <th>8244</th>\n",
       "      <td>11</td>\n",
       "      <td>499</td>\n",
       "      <td>1678</td>\n",
       "      <td>534</td>\n",
       "      <td>1737</td>\n",
       "      <td>62</td>\n",
       "      <td>1</td>\n",
       "      <td>0</td>\n",
       "      <td>1</td>\n",
       "      <td>Pedestrian</td>\n",
       "    </tr>\n",
       "    <tr>\n",
       "      <th>9306</th>\n",
       "      <td>12</td>\n",
       "      <td>600</td>\n",
       "      <td>842</td>\n",
       "      <td>633</td>\n",
       "      <td>897</td>\n",
       "      <td>62</td>\n",
       "      <td>1</td>\n",
       "      <td>0</td>\n",
       "      <td>1</td>\n",
       "      <td>Pedestrian</td>\n",
       "    </tr>\n",
       "    <tr>\n",
       "      <th>10368</th>\n",
       "      <td>13</td>\n",
       "      <td>1160</td>\n",
       "      <td>930</td>\n",
       "      <td>1182</td>\n",
       "      <td>993</td>\n",
       "      <td>62</td>\n",
       "      <td>1</td>\n",
       "      <td>0</td>\n",
       "      <td>1</td>\n",
       "      <td>Pedestrian</td>\n",
       "    </tr>\n",
       "    <tr>\n",
       "      <th>11430</th>\n",
       "      <td>14</td>\n",
       "      <td>861</td>\n",
       "      <td>883</td>\n",
       "      <td>878</td>\n",
       "      <td>908</td>\n",
       "      <td>62</td>\n",
       "      <td>1</td>\n",
       "      <td>0</td>\n",
       "      <td>1</td>\n",
       "      <td>Pedestrian</td>\n",
       "    </tr>\n",
       "    <tr>\n",
       "      <th>12492</th>\n",
       "      <td>15</td>\n",
       "      <td>858</td>\n",
       "      <td>912</td>\n",
       "      <td>884</td>\n",
       "      <td>945</td>\n",
       "      <td>62</td>\n",
       "      <td>1</td>\n",
       "      <td>0</td>\n",
       "      <td>1</td>\n",
       "      <td>Pedestrian</td>\n",
       "    </tr>\n",
       "    <tr>\n",
       "      <th>13554</th>\n",
       "      <td>16</td>\n",
       "      <td>9</td>\n",
       "      <td>989</td>\n",
       "      <td>44</td>\n",
       "      <td>1026</td>\n",
       "      <td>62</td>\n",
       "      <td>1</td>\n",
       "      <td>0</td>\n",
       "      <td>1</td>\n",
       "      <td>Pedestrian</td>\n",
       "    </tr>\n",
       "    <tr>\n",
       "      <th>14616</th>\n",
       "      <td>17</td>\n",
       "      <td>39</td>\n",
       "      <td>1004</td>\n",
       "      <td>77</td>\n",
       "      <td>1044</td>\n",
       "      <td>62</td>\n",
       "      <td>1</td>\n",
       "      <td>0</td>\n",
       "      <td>1</td>\n",
       "      <td>Pedestrian</td>\n",
       "    </tr>\n",
       "    <tr>\n",
       "      <th>15678</th>\n",
       "      <td>18</td>\n",
       "      <td>907</td>\n",
       "      <td>938</td>\n",
       "      <td>920</td>\n",
       "      <td>978</td>\n",
       "      <td>62</td>\n",
       "      <td>1</td>\n",
       "      <td>0</td>\n",
       "      <td>1</td>\n",
       "      <td>Pedestrian</td>\n",
       "    </tr>\n",
       "    <tr>\n",
       "      <th>16740</th>\n",
       "      <td>19</td>\n",
       "      <td>904</td>\n",
       "      <td>967</td>\n",
       "      <td>917</td>\n",
       "      <td>1007</td>\n",
       "      <td>62</td>\n",
       "      <td>1</td>\n",
       "      <td>0</td>\n",
       "      <td>1</td>\n",
       "      <td>Pedestrian</td>\n",
       "    </tr>\n",
       "    <tr>\n",
       "      <th>17802</th>\n",
       "      <td>20</td>\n",
       "      <td>185</td>\n",
       "      <td>1561</td>\n",
       "      <td>220</td>\n",
       "      <td>1608</td>\n",
       "      <td>62</td>\n",
       "      <td>1</td>\n",
       "      <td>0</td>\n",
       "      <td>1</td>\n",
       "      <td>Pedestrian</td>\n",
       "    </tr>\n",
       "    <tr>\n",
       "      <th>18334</th>\n",
       "      <td>21</td>\n",
       "      <td>62</td>\n",
       "      <td>919</td>\n",
       "      <td>88</td>\n",
       "      <td>971</td>\n",
       "      <td>62</td>\n",
       "      <td>1</td>\n",
       "      <td>0</td>\n",
       "      <td>1</td>\n",
       "      <td>Pedestrian</td>\n",
       "    </tr>\n",
       "    <tr>\n",
       "      <th>18866</th>\n",
       "      <td>22</td>\n",
       "      <td>64</td>\n",
       "      <td>875</td>\n",
       "      <td>90</td>\n",
       "      <td>930</td>\n",
       "      <td>62</td>\n",
       "      <td>1</td>\n",
       "      <td>0</td>\n",
       "      <td>1</td>\n",
       "      <td>Pedestrian</td>\n",
       "    </tr>\n",
       "    <tr>\n",
       "      <th>19398</th>\n",
       "      <td>23</td>\n",
       "      <td>894</td>\n",
       "      <td>846</td>\n",
       "      <td>914</td>\n",
       "      <td>908</td>\n",
       "      <td>62</td>\n",
       "      <td>1</td>\n",
       "      <td>0</td>\n",
       "      <td>1</td>\n",
       "      <td>Pedestrian</td>\n",
       "    </tr>\n",
       "    <tr>\n",
       "      <th>19930</th>\n",
       "      <td>24</td>\n",
       "      <td>947</td>\n",
       "      <td>967</td>\n",
       "      <td>968</td>\n",
       "      <td>1007</td>\n",
       "      <td>62</td>\n",
       "      <td>1</td>\n",
       "      <td>0</td>\n",
       "      <td>1</td>\n",
       "      <td>Pedestrian</td>\n",
       "    </tr>\n",
       "    <tr>\n",
       "      <th>20462</th>\n",
       "      <td>25</td>\n",
       "      <td>1021</td>\n",
       "      <td>930</td>\n",
       "      <td>1049</td>\n",
       "      <td>978</td>\n",
       "      <td>62</td>\n",
       "      <td>1</td>\n",
       "      <td>0</td>\n",
       "      <td>1</td>\n",
       "      <td>Pedestrian</td>\n",
       "    </tr>\n",
       "    <tr>\n",
       "      <th>20994</th>\n",
       "      <td>26</td>\n",
       "      <td>177</td>\n",
       "      <td>1704</td>\n",
       "      <td>200</td>\n",
       "      <td>1740</td>\n",
       "      <td>62</td>\n",
       "      <td>1</td>\n",
       "      <td>0</td>\n",
       "      <td>1</td>\n",
       "      <td>Pedestrian</td>\n",
       "    </tr>\n",
       "    <tr>\n",
       "      <th>21526</th>\n",
       "      <td>27</td>\n",
       "      <td>238</td>\n",
       "      <td>1693</td>\n",
       "      <td>263</td>\n",
       "      <td>1740</td>\n",
       "      <td>62</td>\n",
       "      <td>1</td>\n",
       "      <td>0</td>\n",
       "      <td>1</td>\n",
       "      <td>Pedestrian</td>\n",
       "    </tr>\n",
       "    <tr>\n",
       "      <th>22058</th>\n",
       "      <td>28</td>\n",
       "      <td>246</td>\n",
       "      <td>1176</td>\n",
       "      <td>271</td>\n",
       "      <td>1238</td>\n",
       "      <td>62</td>\n",
       "      <td>1</td>\n",
       "      <td>0</td>\n",
       "      <td>1</td>\n",
       "      <td>Pedestrian</td>\n",
       "    </tr>\n",
       "    <tr>\n",
       "      <th>22590</th>\n",
       "      <td>29</td>\n",
       "      <td>351</td>\n",
       "      <td>1689</td>\n",
       "      <td>374</td>\n",
       "      <td>1751</td>\n",
       "      <td>62</td>\n",
       "      <td>1</td>\n",
       "      <td>0</td>\n",
       "      <td>1</td>\n",
       "      <td>Pedestrian</td>\n",
       "    </tr>\n",
       "    <tr>\n",
       "      <th>23122</th>\n",
       "      <td>30</td>\n",
       "      <td>18</td>\n",
       "      <td>1421</td>\n",
       "      <td>47</td>\n",
       "      <td>1473</td>\n",
       "      <td>62</td>\n",
       "      <td>1</td>\n",
       "      <td>0</td>\n",
       "      <td>1</td>\n",
       "      <td>Biker</td>\n",
       "    </tr>\n",
       "    <tr>\n",
       "      <th>23654</th>\n",
       "      <td>31</td>\n",
       "      <td>34</td>\n",
       "      <td>1469</td>\n",
       "      <td>64</td>\n",
       "      <td>1524</td>\n",
       "      <td>62</td>\n",
       "      <td>1</td>\n",
       "      <td>0</td>\n",
       "      <td>1</td>\n",
       "      <td>Pedestrian</td>\n",
       "    </tr>\n",
       "    <tr>\n",
       "      <th>24186</th>\n",
       "      <td>32</td>\n",
       "      <td>90</td>\n",
       "      <td>1575</td>\n",
       "      <td>118</td>\n",
       "      <td>1627</td>\n",
       "      <td>62</td>\n",
       "      <td>1</td>\n",
       "      <td>0</td>\n",
       "      <td>1</td>\n",
       "      <td>Pedestrian</td>\n",
       "    </tr>\n",
       "    <tr>\n",
       "      <th>24718</th>\n",
       "      <td>33</td>\n",
       "      <td>271</td>\n",
       "      <td>879</td>\n",
       "      <td>304</td>\n",
       "      <td>938</td>\n",
       "      <td>62</td>\n",
       "      <td>1</td>\n",
       "      <td>0</td>\n",
       "      <td>1</td>\n",
       "      <td>Pedestrian</td>\n",
       "    </tr>\n",
       "    <tr>\n",
       "      <th>25250</th>\n",
       "      <td>34</td>\n",
       "      <td>968</td>\n",
       "      <td>1147</td>\n",
       "      <td>1003</td>\n",
       "      <td>1216</td>\n",
       "      <td>62</td>\n",
       "      <td>1</td>\n",
       "      <td>0</td>\n",
       "      <td>1</td>\n",
       "      <td>Pedestrian</td>\n",
       "    </tr>\n",
       "    <tr>\n",
       "      <th>25782</th>\n",
       "      <td>35</td>\n",
       "      <td>11</td>\n",
       "      <td>1451</td>\n",
       "      <td>29</td>\n",
       "      <td>1498</td>\n",
       "      <td>62</td>\n",
       "      <td>1</td>\n",
       "      <td>0</td>\n",
       "      <td>1</td>\n",
       "      <td>Pedestrian</td>\n",
       "    </tr>\n",
       "    <tr>\n",
       "      <th>26814</th>\n",
       "      <td>36</td>\n",
       "      <td>11</td>\n",
       "      <td>65</td>\n",
       "      <td>29</td>\n",
       "      <td>131</td>\n",
       "      <td>62</td>\n",
       "      <td>1</td>\n",
       "      <td>0</td>\n",
       "      <td>1</td>\n",
       "      <td>Pedestrian</td>\n",
       "    </tr>\n",
       "    <tr>\n",
       "      <th>27846</th>\n",
       "      <td>37</td>\n",
       "      <td>596</td>\n",
       "      <td>897</td>\n",
       "      <td>613</td>\n",
       "      <td>927</td>\n",
       "      <td>62</td>\n",
       "      <td>1</td>\n",
       "      <td>0</td>\n",
       "      <td>1</td>\n",
       "      <td>Pedestrian</td>\n",
       "    </tr>\n",
       "    <tr>\n",
       "      <th>28878</th>\n",
       "      <td>38</td>\n",
       "      <td>595</td>\n",
       "      <td>934</td>\n",
       "      <td>619</td>\n",
       "      <td>982</td>\n",
       "      <td>62</td>\n",
       "      <td>1</td>\n",
       "      <td>0</td>\n",
       "      <td>1</td>\n",
       "      <td>Pedestrian</td>\n",
       "    </tr>\n",
       "    <tr>\n",
       "      <th>29910</th>\n",
       "      <td>39</td>\n",
       "      <td>715</td>\n",
       "      <td>846</td>\n",
       "      <td>748</td>\n",
       "      <td>919</td>\n",
       "      <td>62</td>\n",
       "      <td>1</td>\n",
       "      <td>0</td>\n",
       "      <td>1</td>\n",
       "      <td>Pedestrian</td>\n",
       "    </tr>\n",
       "    <tr>\n",
       "      <th>30942</th>\n",
       "      <td>40</td>\n",
       "      <td>601</td>\n",
       "      <td>861</td>\n",
       "      <td>626</td>\n",
       "      <td>923</td>\n",
       "      <td>62</td>\n",
       "      <td>1</td>\n",
       "      <td>0</td>\n",
       "      <td>1</td>\n",
       "      <td>Pedestrian</td>\n",
       "    </tr>\n",
       "    <tr>\n",
       "      <th>31974</th>\n",
       "      <td>41</td>\n",
       "      <td>962</td>\n",
       "      <td>901</td>\n",
       "      <td>986</td>\n",
       "      <td>930</td>\n",
       "      <td>62</td>\n",
       "      <td>1</td>\n",
       "      <td>0</td>\n",
       "      <td>1</td>\n",
       "      <td>Pedestrian</td>\n",
       "    </tr>\n",
       "    <tr>\n",
       "      <th>33006</th>\n",
       "      <td>42</td>\n",
       "      <td>1151</td>\n",
       "      <td>828</td>\n",
       "      <td>1175</td>\n",
       "      <td>894</td>\n",
       "      <td>62</td>\n",
       "      <td>1</td>\n",
       "      <td>0</td>\n",
       "      <td>1</td>\n",
       "      <td>Pedestrian</td>\n",
       "    </tr>\n",
       "    <tr>\n",
       "      <th>34038</th>\n",
       "      <td>43</td>\n",
       "      <td>0</td>\n",
       "      <td>1484</td>\n",
       "      <td>34</td>\n",
       "      <td>1550</td>\n",
       "      <td>62</td>\n",
       "      <td>1</td>\n",
       "      <td>0</td>\n",
       "      <td>1</td>\n",
       "      <td>Biker</td>\n",
       "    </tr>\n",
       "  </tbody>\n",
       "</table>\n",
       "</div>"
      ],
      "text/plain": [
       "        0     1     2     3     4   5  6  7  8           9\n",
       "624     1   391  1004   414  1048  62  1  0  1  Pedestrian\n",
       "3372    5     9   978    36  1015  62  1  0  1  Pedestrian\n",
       "4434    6   223   916   246   971  62  1  0  1  Pedestrian\n",
       "5558    8    44   967    82  1018  62  1  0  1  Pedestrian\n",
       "6620    9  1100   982  1123  1033  62  1  0  1  Pedestrian\n",
       "8244   11   499  1678   534  1737  62  1  0  1  Pedestrian\n",
       "9306   12   600   842   633   897  62  1  0  1  Pedestrian\n",
       "10368  13  1160   930  1182   993  62  1  0  1  Pedestrian\n",
       "11430  14   861   883   878   908  62  1  0  1  Pedestrian\n",
       "12492  15   858   912   884   945  62  1  0  1  Pedestrian\n",
       "13554  16     9   989    44  1026  62  1  0  1  Pedestrian\n",
       "14616  17    39  1004    77  1044  62  1  0  1  Pedestrian\n",
       "15678  18   907   938   920   978  62  1  0  1  Pedestrian\n",
       "16740  19   904   967   917  1007  62  1  0  1  Pedestrian\n",
       "17802  20   185  1561   220  1608  62  1  0  1  Pedestrian\n",
       "18334  21    62   919    88   971  62  1  0  1  Pedestrian\n",
       "18866  22    64   875    90   930  62  1  0  1  Pedestrian\n",
       "19398  23   894   846   914   908  62  1  0  1  Pedestrian\n",
       "19930  24   947   967   968  1007  62  1  0  1  Pedestrian\n",
       "20462  25  1021   930  1049   978  62  1  0  1  Pedestrian\n",
       "20994  26   177  1704   200  1740  62  1  0  1  Pedestrian\n",
       "21526  27   238  1693   263  1740  62  1  0  1  Pedestrian\n",
       "22058  28   246  1176   271  1238  62  1  0  1  Pedestrian\n",
       "22590  29   351  1689   374  1751  62  1  0  1  Pedestrian\n",
       "23122  30    18  1421    47  1473  62  1  0  1       Biker\n",
       "23654  31    34  1469    64  1524  62  1  0  1  Pedestrian\n",
       "24186  32    90  1575   118  1627  62  1  0  1  Pedestrian\n",
       "24718  33   271   879   304   938  62  1  0  1  Pedestrian\n",
       "25250  34   968  1147  1003  1216  62  1  0  1  Pedestrian\n",
       "25782  35    11  1451    29  1498  62  1  0  1  Pedestrian\n",
       "26814  36    11    65    29   131  62  1  0  1  Pedestrian\n",
       "27846  37   596   897   613   927  62  1  0  1  Pedestrian\n",
       "28878  38   595   934   619   982  62  1  0  1  Pedestrian\n",
       "29910  39   715   846   748   919  62  1  0  1  Pedestrian\n",
       "30942  40   601   861   626   923  62  1  0  1  Pedestrian\n",
       "31974  41   962   901   986   930  62  1  0  1  Pedestrian\n",
       "33006  42  1151   828  1175   894  62  1  0  1  Pedestrian\n",
       "34038  43     0  1484    34  1550  62  1  0  1       Biker"
      ]
     },
     "execution_count": 6,
     "metadata": {},
     "output_type": "execute_result"
    }
   ],
   "source": [
    "ann[ann[5]==62]"
   ]
  },
  {
   "cell_type": "code",
   "execution_count": 9,
   "metadata": {},
   "outputs": [
    {
     "name": "stdout",
     "output_type": "stream",
     "text": [
      "29\n",
      "1062.0\n",
      "0.0\n"
     ]
    }
   ],
   "source": [
    "video = cv2.VideoCapture(r'Q:\\Downloads\\stanford_campus_dataset\\videos\\nexus\\video3\\video.mov')\n",
    "fps = int(video.get(cv2.CAP_PROP_FPS))\n",
    "print(fps)\n",
    "print(video.get(cv2.CAP_PROP_FRAME_COUNT))\n",
    "print(video.get(cv2.CAP_PROP_POS_FRAMES))\n",
    "\n",
    "index = 0\n",
    "success = True\n",
    "frames = []\n",
    "while success and index < 10:\n",
    "    index += 1\n",
    "#     if index % fps == 0:\n",
    "    video.set(cv2.CAP_PROP_POS_FRAMES, index)\n",
    "    success, frame = video.read()\n",
    "    frames.append(frame)"
   ]
  },
  {
   "cell_type": "code",
   "execution_count": 10,
   "metadata": {},
   "outputs": [
    {
     "data": {
      "text/plain": [
       "<matplotlib.image.AxesImage at 0x227f3292348>"
      ]
     },
     "execution_count": 10,
     "metadata": {},
     "output_type": "execute_result"
    },
    {
     "data": {
      "image/png": "[encoded data removed]",
      "text/plain": [
       "<Figure size 432x288 with 1 Axes>"
      ]
     },
     "metadata": {
      "needs_background": "light"
     },
     "output_type": "display_data"
    }
   ],
   "source": [
    "index=950\n",
    "video.set(cv2.CAP_PROP_POS_FRAMES, index)\n",
    "success, frame = video.read()\n",
    "plt.imshow(frame)"
   ]
  },
  {
   "cell_type": "code",
   "execution_count": 11,
   "metadata": {},
   "outputs": [
    {
     "data": {
      "application/vnd.jupyter.widget-view+json": {
       "model_id": "a4a3e19b99c6433abfb3d2f5574eb2af",
       "version_major": 2,
       "version_minor": 0
      },
      "text/plain": [
       "interactive(children=(FloatSlider(value=0.0, description='i', max=1062.0, step=1.0), Output()), _dom_classes=(…"
      ]
     },
     "metadata": {},
     "output_type": "display_data"
    }
   ],
   "source": [
    "@interact(i=(0,video.get(cv2.CAP_PROP_FRAME_COUNT),1))\n",
    "def tst(i=0):\n",
    "\n",
    "    index = i\n",
    "    ann = annotation\n",
    "\n",
    "    video.set(cv2.CAP_PROP_POS_FRAMES, index)\n",
    "    success, frame = video.read()\n",
    "\n",
    "    elems = ann[(ann[5]==index)  & (ann[7]!=1)] #& (ann[6]!=1)\n",
    "    for index, row in elems.iterrows():\n",
    "        xmin, ymin, xmax, ymax = row[1], row[2], row[3], row[4]\n",
    "        frame = cv2.rectangle(frame, (xmin, ymin), (xmax, ymax), color=(255,255,0), thickness=2)\n",
    "\n",
    "\n",
    "    plt.figure(figsize=(10,15\n",
    "                       ))\n",
    "    plt.imshow(frame)"
   ]
  },
  {
   "cell_type": "code",
   "execution_count": null,
   "metadata": {},
   "outputs": [],
   "source": []
  },
  {
   "cell_type": "code",
   "execution_count": null,
   "metadata": {},
   "outputs": [],
   "source": []
  },
  {
   "cell_type": "code",
   "execution_count": 93,
   "metadata": {},
   "outputs": [],
   "source": [
    "annotation = pd.read_csv(r'Q:\\Downloads\\stanford_campus_dataset\\annotations\\bookstore\\video1\\annotations.txt', header=None, delimiter=' ')"
   ]
  },
  {
   "cell_type": "code",
   "execution_count": 100,
   "metadata": {},
   "outputs": [
    {
     "data": {
      "text/html": [
       "<div>\n",
       "<style scoped>\n",
       "    .dataframe tbody tr th:only-of-type {\n",
       "        vertical-align: middle;\n",
       "    }\n",
       "\n",
       "    .dataframe tbody tr th {\n",
       "        vertical-align: top;\n",
       "    }\n",
       "\n",
       "    .dataframe thead th {\n",
       "        text-align: right;\n",
       "    }\n",
       "</style>\n",
       "<table border=\"1\" class=\"dataframe\">\n",
       "  <thead>\n",
       "    <tr style=\"text-align: right;\">\n",
       "      <th></th>\n",
       "      <th>0</th>\n",
       "      <th>1</th>\n",
       "      <th>2</th>\n",
       "      <th>3</th>\n",
       "      <th>4</th>\n",
       "      <th>5</th>\n",
       "      <th>6</th>\n",
       "      <th>7</th>\n",
       "      <th>8</th>\n",
       "      <th>9</th>\n",
       "    </tr>\n",
       "  </thead>\n",
       "  <tbody>\n",
       "    <tr>\n",
       "      <th>190830</th>\n",
       "      <td>196</td>\n",
       "      <td>1315</td>\n",
       "      <td>982</td>\n",
       "      <td>1344</td>\n",
       "      <td>1020</td>\n",
       "      <td>8220</td>\n",
       "      <td>0</td>\n",
       "      <td>0</td>\n",
       "      <td>1</td>\n",
       "      <td>Pedestrian</td>\n",
       "    </tr>\n",
       "  </tbody>\n",
       "</table>\n",
       "</div>"
      ],
      "text/plain": [
       "          0     1    2     3     4     5  6  7  8           9\n",
       "190830  196  1315  982  1344  1020  8220  0  0  1  Pedestrian"
      ]
     },
     "execution_count": 100,
     "metadata": {},
     "output_type": "execute_result"
    }
   ],
   "source": [
    "ann = annotation \n",
    "ann[(ann[1]==1315)  & (ann[2]==982) & (ann[3]==1344)]"
   ]
  },
  {
   "cell_type": "code",
   "execution_count": 96,
   "metadata": {},
   "outputs": [
    {
     "data": {
      "text/html": [
       "<div>\n",
       "<style scoped>\n",
       "    .dataframe tbody tr th:only-of-type {\n",
       "        vertical-align: middle;\n",
       "    }\n",
       "\n",
       "    .dataframe tbody tr th {\n",
       "        vertical-align: top;\n",
       "    }\n",
       "\n",
       "    .dataframe thead th {\n",
       "        text-align: right;\n",
       "    }\n",
       "</style>\n",
       "<table border=\"1\" class=\"dataframe\">\n",
       "  <thead>\n",
       "    <tr style=\"text-align: right;\">\n",
       "      <th></th>\n",
       "      <th>0</th>\n",
       "      <th>1</th>\n",
       "      <th>2</th>\n",
       "      <th>3</th>\n",
       "      <th>4</th>\n",
       "      <th>5</th>\n",
       "      <th>6</th>\n",
       "      <th>7</th>\n",
       "      <th>8</th>\n",
       "      <th>9</th>\n",
       "    </tr>\n",
       "  </thead>\n",
       "  <tbody>\n",
       "  </tbody>\n",
       "</table>\n",
       "</div>"
      ],
      "text/plain": [
       "Empty DataFrame\n",
       "Columns: [0, 1, 2, 3, 4, 5, 6, 7, 8, 9]\n",
       "Index: []"
      ]
     },
     "execution_count": 96,
     "metadata": {},
     "output_type": "execute_result"
    }
   ],
   "source": [
    "ann[(ann[1]==35)]"
   ]
  },
  {
   "cell_type": "code",
   "execution_count": null,
   "metadata": {},
   "outputs": [],
   "source": []
  },
  {
   "cell_type": "code",
   "execution_count": 154,
   "metadata": {},
   "outputs": [
    {
     "data": {
      "text/plain": [
       "['c', 'a', 'b']"
      ]
     },
     "execution_count": 154,
     "metadata": {},
     "output_type": "execute_result"
    }
   ],
   "source": [
    "a = ['b', 'c', 'a']\n",
    "b = [31, 11, 21]\n",
    "c = ['c', 'a', 'b']  # Сортировка a по ключу b\n",
    "c"
   ]
  },
  {
   "cell_type": "code",
   "execution_count": 157,
   "metadata": {},
   "outputs": [
    {
     "data": {
      "text/plain": [
       "['a', 'b', 'c']"
      ]
     },
     "execution_count": 157,
     "metadata": {},
     "output_type": "execute_result"
    }
   ],
   "source": [
    "sorted(a, key=lambda b:b)"
   ]
  },
  {
   "cell_type": "code",
   "execution_count": 7,
   "metadata": {},
   "outputs": [],
   "source": [
    "a = cv2.imread('test_markers.png', 0)"
   ]
  },
  {
   "cell_type": "code",
   "execution_count": 12,
   "metadata": {},
   "outputs": [
    {
     "data": {
      "text/plain": [
       "<matplotlib.image.AxesImage at 0x1e8ed23b308>"
      ]
     },
     "execution_count": 12,
     "metadata": {},
     "output_type": "execute_result"
    },
    {
     "data": {
      "image/png": "[encoded data removed]",
      "text/plain": [
       "<Figure size 432x288 with 1 Axes>"
      ]
     },
     "metadata": {
      "needs_background": "light"
     },
     "output_type": "display_data"
    }
   ],
   "source": [
    "plt.imshow(a==3)"
   ]
  },
  {
   "cell_type": "code",
   "execution_count": 12,
   "metadata": {},
   "outputs": [
    {
     "data": {
      "application/vnd.jupyter.widget-view+json": {
       "model_id": "a010c03ffdb34b02b911b6367b22d737",
       "version_major": 2,
       "version_minor": 0
      },
      "text/plain": [
       "interactive(children=(IntSlider(value=29, description='i', max=59), Output()), _dom_classes=('widget-interact'…"
      ]
     },
     "metadata": {},
     "output_type": "display_data"
    }
   ],
   "source": [
    "SDD_path = r'Q:\\Downloads\\stanford_campus_dataset\\annotations'\n",
    "references = list(Path(SDD_path).glob(r'*\\*\\reference.jpg'))\n",
    "\n",
    "@interact(i=(0,len(references)-1, 1))\n",
    "def tst(i):\n",
    "    plt.figure(figsize=(20,20))\n",
    "    img = cv2.imread(str(references[i]))[:,:,::-1]\n",
    "    plt.imshow(img)"
   ]
  },
  {
   "cell_type": "code",
   "execution_count": 19,
   "metadata": {},
   "outputs": [
    {
     "data": {
      "text/plain": [
       "<matplotlib.image.AxesImage at 0x227f9b5c7c8>"
      ]
     },
     "execution_count": 19,
     "metadata": {},
     "output_type": "execute_result"
    },
    {
     "data": {
      "image/png": "[encoded data removed]",
      "text/plain": [
       "<Figure size 432x288 with 1 Axes>"
      ]
     },
     "metadata": {
      "needs_background": "light"
     },
     "output_type": "display_data"
    }
   ],
   "source": [
    "img_p = references[0]\n",
    "img = cv2.imread(str(img_p))[:,:,::-1]\n",
    "markers_p = references[0].parent.joinpath('markers.png')\n",
    "markers = cv2.imread(str(markers_p), 0).astype(np.int32)\n",
    "plt.imshow(img)\n",
    "\n"
   ]
  },
  {
   "cell_type": "code",
   "execution_count": 20,
   "metadata": {},
   "outputs": [
    {
     "data": {
      "text/plain": [
       "<matplotlib.image.AxesImage at 0x227f9b76dc8>"
      ]
     },
     "execution_count": 20,
     "metadata": {},
     "output_type": "execute_result"
    },
    {
     "data": {
      "image/png": "[encoded data removed]",
      "text/plain": [
       "<Figure size 432x288 with 1 Axes>"
      ]
     },
     "metadata": {
      "needs_background": "light"
     },
     "output_type": "display_data"
    }
   ],
   "source": [
    "a = cv2.watershed(img, markers)\n",
    "plt.imshow(a)"
   ]
  },
  {
   "cell_type": "code",
   "execution_count": 74,
   "metadata": {
    "collapsed": true
   },
   "outputs": [
    {
     "data": {
      "text/plain": [
       "[WindowsPath('Q:/Downloads/stanford_campus_dataset/annotations/bookstore/video0/markers.png'),\n",
       " WindowsPath('Q:/Downloads/stanford_campus_dataset/annotations/bookstore/video1/markers.png'),\n",
       " WindowsPath('Q:/Downloads/stanford_campus_dataset/annotations/bookstore/video2/markers.png'),\n",
       " WindowsPath('Q:/Downloads/stanford_campus_dataset/annotations/bookstore/video3/markers.png'),\n",
       " WindowsPath('Q:/Downloads/stanford_campus_dataset/annotations/bookstore/video4/markers.png'),\n",
       " WindowsPath('Q:/Downloads/stanford_campus_dataset/annotations/bookstore/video5/markers.png'),\n",
       " WindowsPath('Q:/Downloads/stanford_campus_dataset/annotations/bookstore/video6/markers.png'),\n",
       " WindowsPath('Q:/Downloads/stanford_campus_dataset/annotations/coupa/video0/markers.png'),\n",
       " WindowsPath('Q:/Downloads/stanford_campus_dataset/annotations/coupa/video1/markers.png'),\n",
       " WindowsPath('Q:/Downloads/stanford_campus_dataset/annotations/coupa/video2/markers.png'),\n",
       " WindowsPath('Q:/Downloads/stanford_campus_dataset/annotations/coupa/video3/markers.png'),\n",
       " WindowsPath('Q:/Downloads/stanford_campus_dataset/annotations/deathCircle/video0/markers.png'),\n",
       " WindowsPath('Q:/Downloads/stanford_campus_dataset/annotations/deathCircle/video1/markers.png'),\n",
       " WindowsPath('Q:/Downloads/stanford_campus_dataset/annotations/deathCircle/video2/markers.png'),\n",
       " WindowsPath('Q:/Downloads/stanford_campus_dataset/annotations/deathCircle/video3/markers.png'),\n",
       " WindowsPath('Q:/Downloads/stanford_campus_dataset/annotations/deathCircle/video4/markers.png'),\n",
       " WindowsPath('Q:/Downloads/stanford_campus_dataset/annotations/gates/video0/markers.png'),\n",
       " WindowsPath('Q:/Downloads/stanford_campus_dataset/annotations/gates/video1/markers.png'),\n",
       " WindowsPath('Q:/Downloads/stanford_campus_dataset/annotations/gates/video2/markers.png'),\n",
       " WindowsPath('Q:/Downloads/stanford_campus_dataset/annotations/gates/video3/markers.png'),\n",
       " WindowsPath('Q:/Downloads/stanford_campus_dataset/annotations/gates/video4/markers.png'),\n",
       " WindowsPath('Q:/Downloads/stanford_campus_dataset/annotations/gates/video5/markers.png'),\n",
       " WindowsPath('Q:/Downloads/stanford_campus_dataset/annotations/gates/video6/markers.png'),\n",
       " WindowsPath('Q:/Downloads/stanford_campus_dataset/annotations/gates/video7/markers.png'),\n",
       " WindowsPath('Q:/Downloads/stanford_campus_dataset/annotations/gates/video8/markers.png'),\n",
       " WindowsPath('Q:/Downloads/stanford_campus_dataset/annotations/hyang/video0/markers.png'),\n",
       " WindowsPath('Q:/Downloads/stanford_campus_dataset/annotations/hyang/video1/markers.png'),\n",
       " WindowsPath('Q:/Downloads/stanford_campus_dataset/annotations/hyang/video10/markers.png'),\n",
       " WindowsPath('Q:/Downloads/stanford_campus_dataset/annotations/hyang/video11/markers.png'),\n",
       " WindowsPath('Q:/Downloads/stanford_campus_dataset/annotations/hyang/video12/markers.png'),\n",
       " WindowsPath('Q:/Downloads/stanford_campus_dataset/annotations/hyang/video13/markers.png'),\n",
       " WindowsPath('Q:/Downloads/stanford_campus_dataset/annotations/hyang/video14/markers.png'),\n",
       " WindowsPath('Q:/Downloads/stanford_campus_dataset/annotations/hyang/video2/markers.png'),\n",
       " WindowsPath('Q:/Downloads/stanford_campus_dataset/annotations/hyang/video3/markers.png'),\n",
       " WindowsPath('Q:/Downloads/stanford_campus_dataset/annotations/hyang/video4/markers.png'),\n",
       " WindowsPath('Q:/Downloads/stanford_campus_dataset/annotations/hyang/video5/markers.png'),\n",
       " WindowsPath('Q:/Downloads/stanford_campus_dataset/annotations/hyang/video6/markers.png'),\n",
       " WindowsPath('Q:/Downloads/stanford_campus_dataset/annotations/hyang/video7/markers.png'),\n",
       " WindowsPath('Q:/Downloads/stanford_campus_dataset/annotations/hyang/video8/markers.png'),\n",
       " WindowsPath('Q:/Downloads/stanford_campus_dataset/annotations/hyang/video9/markers.png'),\n",
       " WindowsPath('Q:/Downloads/stanford_campus_dataset/annotations/little/video0/markers.png'),\n",
       " WindowsPath('Q:/Downloads/stanford_campus_dataset/annotations/little/video1/markers.png'),\n",
       " WindowsPath('Q:/Downloads/stanford_campus_dataset/annotations/little/video2/markers.png'),\n",
       " WindowsPath('Q:/Downloads/stanford_campus_dataset/annotations/little/video3/markers.png'),\n",
       " WindowsPath('Q:/Downloads/stanford_campus_dataset/annotations/nexus/video0/markers.png'),\n",
       " WindowsPath('Q:/Downloads/stanford_campus_dataset/annotations/nexus/video1/markers.png'),\n",
       " WindowsPath('Q:/Downloads/stanford_campus_dataset/annotations/nexus/video10/markers.png'),\n",
       " WindowsPath('Q:/Downloads/stanford_campus_dataset/annotations/nexus/video11/markers.png'),\n",
       " WindowsPath('Q:/Downloads/stanford_campus_dataset/annotations/nexus/video2/markers.png'),\n",
       " WindowsPath('Q:/Downloads/stanford_campus_dataset/annotations/nexus/video3/markers.png'),\n",
       " WindowsPath('Q:/Downloads/stanford_campus_dataset/annotations/nexus/video4/markers.png'),\n",
       " WindowsPath('Q:/Downloads/stanford_campus_dataset/annotations/nexus/video5/markers.png'),\n",
       " WindowsPath('Q:/Downloads/stanford_campus_dataset/annotations/nexus/video6/markers.png'),\n",
       " WindowsPath('Q:/Downloads/stanford_campus_dataset/annotations/nexus/video7/markers.png'),\n",
       " WindowsPath('Q:/Downloads/stanford_campus_dataset/annotations/nexus/video8/markers.png'),\n",
       " WindowsPath('Q:/Downloads/stanford_campus_dataset/annotations/nexus/video9/markers.png'),\n",
       " WindowsPath('Q:/Downloads/stanford_campus_dataset/annotations/quad/video0/markers.png'),\n",
       " WindowsPath('Q:/Downloads/stanford_campus_dataset/annotations/quad/video1/markers.png'),\n",
       " WindowsPath('Q:/Downloads/stanford_campus_dataset/annotations/quad/video2/markers.png'),\n",
       " WindowsPath('Q:/Downloads/stanford_campus_dataset/annotations/quad/video3/markers.png')]"
      ]
     },
     "execution_count": 74,
     "metadata": {},
     "output_type": "execute_result"
    }
   ],
   "source": [
    "SDD_path = r'Q:\\Downloads\\stanford_campus_dataset\\annotations'\n",
    "markers_paths = list(Path(SDD_path).glob(r'*\\*\\markers.png'))\n",
    "markers_paths"
   ]
  },
  {
   "cell_type": "code",
   "execution_count": 96,
   "metadata": {},
   "outputs": [
    {
     "name": "stderr",
     "output_type": "stream",
     "text": [
      "c:\\python37\\lib\\site-packages\\ipykernel_launcher.py:1: TqdmDeprecationWarning: This function will be removed in tqdm==5.0.0\n",
      "Please use `tqdm.notebook.tqdm` instead of `tqdm.tqdm_notebook`\n",
      "  \"\"\"Entry point for launching an IPython kernel.\n"
     ]
    },
    {
     "data": {
      "application/vnd.jupyter.widget-view+json": {
       "model_id": "0371937edc684198a01e49fca51eb9be",
       "version_major": 2,
       "version_minor": 0
      },
      "text/plain": [
       "HBox(children=(FloatProgress(value=1.0, bar_style='info', layout=Layout(width='20px'), max=1.0), HTML(value=''…"
      ]
     },
     "metadata": {},
     "output_type": "display_data"
    },
    {
     "name": "stdout",
     "output_type": "stream",
     "text": [
      "\n"
     ]
    }
   ],
   "source": [
    "for idx, row in tqdm_notebook(annotation.iterrows()):\n",
    "    r_idx = row['img_name'].rfind('_')\n",
    "    name = row['img_name'][:r_idx]\n",
    "    for markers_p in markers_paths:\n",
    "        a,b = markers_p.parts[-3:-1]\n",
    "        marker_name = a+'_'+b\n",
    "        if name == marker_name:\n",
    "            annotation.loc[idx, 'marker_path'] = str(markers_p)"
   ]
  },
  {
   "cell_type": "code",
   "execution_count": null,
   "metadata": {},
   "outputs": [],
   "source": []
  },
  {
   "cell_type": "markdown",
   "metadata": {},
   "source": [
    "# RE-DO annotations"
   ]
  },
  {
   "cell_type": "code",
   "execution_count": 61,
   "metadata": {},
   "outputs": [],
   "source": [
    "annotation = pd.read_csv(r'Z:\\test tasks\\Sber_robo\\SDD_images\\annotations.csv', header=None, delimiter=',', \n",
    "                         names=['img_name','xmin','ymin','xmax','ymax','class_name'])"
   ]
  },
  {
   "cell_type": "code",
   "execution_count": 97,
   "metadata": {},
   "outputs": [
    {
     "data": {
      "text/html": [
       "<div>\n",
       "<style scoped>\n",
       "    .dataframe tbody tr th:only-of-type {\n",
       "        vertical-align: middle;\n",
       "    }\n",
       "\n",
       "    .dataframe tbody tr th {\n",
       "        vertical-align: top;\n",
       "    }\n",
       "\n",
       "    .dataframe thead th {\n",
       "        text-align: right;\n",
       "    }\n",
       "</style>\n",
       "<table border=\"1\" class=\"dataframe\">\n",
       "  <thead>\n",
       "    <tr style=\"text-align: right;\">\n",
       "      <th></th>\n",
       "      <th>img_name</th>\n",
       "      <th>xmin</th>\n",
       "      <th>ymin</th>\n",
       "      <th>xmax</th>\n",
       "      <th>ymax</th>\n",
       "      <th>class_name</th>\n",
       "      <th>marker_path</th>\n",
       "    </tr>\n",
       "  </thead>\n",
       "  <tbody>\n",
       "    <tr>\n",
       "      <th>0</th>\n",
       "      <td>bookstore_video0_40.jpg</td>\n",
       "      <td>763</td>\n",
       "      <td>899</td>\n",
       "      <td>806</td>\n",
       "      <td>940</td>\n",
       "      <td>human</td>\n",
       "      <td>Q:\\Downloads\\stanford_campus_dataset\\annotatio...</td>\n",
       "    </tr>\n",
       "    <tr>\n",
       "      <th>1</th>\n",
       "      <td>bookstore_video0_40.jpg</td>\n",
       "      <td>848</td>\n",
       "      <td>174</td>\n",
       "      <td>891</td>\n",
       "      <td>219</td>\n",
       "      <td>human</td>\n",
       "      <td>Q:\\Downloads\\stanford_campus_dataset\\annotatio...</td>\n",
       "    </tr>\n",
       "    <tr>\n",
       "      <th>2</th>\n",
       "      <td>bookstore_video0_40.jpg</td>\n",
       "      <td>399</td>\n",
       "      <td>999</td>\n",
       "      <td>419</td>\n",
       "      <td>1031</td>\n",
       "      <td>human</td>\n",
       "      <td>Q:\\Downloads\\stanford_campus_dataset\\annotatio...</td>\n",
       "    </tr>\n",
       "    <tr>\n",
       "      <th>3</th>\n",
       "      <td>bookstore_video0_40.jpg</td>\n",
       "      <td>417</td>\n",
       "      <td>1033</td>\n",
       "      <td>446</td>\n",
       "      <td>1067</td>\n",
       "      <td>human</td>\n",
       "      <td>Q:\\Downloads\\stanford_campus_dataset\\annotatio...</td>\n",
       "    </tr>\n",
       "    <tr>\n",
       "      <th>4</th>\n",
       "      <td>bookstore_video0_40.jpg</td>\n",
       "      <td>587</td>\n",
       "      <td>976</td>\n",
       "      <td>626</td>\n",
       "      <td>1013</td>\n",
       "      <td>human</td>\n",
       "      <td>Q:\\Downloads\\stanford_campus_dataset\\annotatio...</td>\n",
       "    </tr>\n",
       "  </tbody>\n",
       "</table>\n",
       "</div>"
      ],
      "text/plain": [
       "                  img_name  xmin  ymin  xmax  ymax class_name  \\\n",
       "0  bookstore_video0_40.jpg   763   899   806   940      human   \n",
       "1  bookstore_video0_40.jpg   848   174   891   219      human   \n",
       "2  bookstore_video0_40.jpg   399   999   419  1031      human   \n",
       "3  bookstore_video0_40.jpg   417  1033   446  1067      human   \n",
       "4  bookstore_video0_40.jpg   587   976   626  1013      human   \n",
       "\n",
       "                                         marker_path  \n",
       "0  Q:\\Downloads\\stanford_campus_dataset\\annotatio...  \n",
       "1  Q:\\Downloads\\stanford_campus_dataset\\annotatio...  \n",
       "2  Q:\\Downloads\\stanford_campus_dataset\\annotatio...  \n",
       "3  Q:\\Downloads\\stanford_campus_dataset\\annotatio...  \n",
       "4  Q:\\Downloads\\stanford_campus_dataset\\annotatio...  "
      ]
     },
     "execution_count": 97,
     "metadata": {},
     "output_type": "execute_result"
    }
   ],
   "source": [
    "annotation.head()"
   ]
  },
  {
   "cell_type": "code",
   "execution_count": 69,
   "metadata": {},
   "outputs": [
    {
     "name": "stderr",
     "output_type": "stream",
     "text": [
      "c:\\python37\\lib\\site-packages\\ipykernel_launcher.py:1: TqdmDeprecationWarning: This function will be removed in tqdm==5.0.0\n",
      "Please use `tqdm.notebook.tqdm` instead of `tqdm.tqdm_notebook`\n",
      "  \"\"\"Entry point for launching an IPython kernel.\n"
     ]
    },
    {
     "data": {
      "application/vnd.jupyter.widget-view+json": {
       "model_id": "b19862051c804b6698fe168858df080c",
       "version_major": 2,
       "version_minor": 0
      },
      "text/plain": [
       "HBox(children=(FloatProgress(value=1.0, bar_style='info', layout=Layout(width='20px'), max=1.0), HTML(value=''…"
      ]
     },
     "metadata": {},
     "output_type": "display_data"
    },
    {
     "name": "stdout",
     "output_type": "stream",
     "text": [
      "\n"
     ]
    }
   ],
   "source": [
    "for idx, row in tqdm_notebook(annotation.iterrows()):\n",
    "    # annotation.at[idx, ] \n",
    "    # annotation.loc[idx, 'img_name'] = row['img_name'].split('/')[2]\n",
    "    if row['class_name'] in ['Pedestrian','Biker','Skater']:\n",
    "        annotation.loc[idx, 'class_name'] = 'human'\n",
    "    elif row['class_name'] in ['Car','Cart','Bus']:\n",
    "        annotation.loc[idx, 'class_name'] = 'car'"
   ]
  },
  {
   "cell_type": "code",
   "execution_count": null,
   "metadata": {},
   "outputs": [],
   "source": [
    "SDD_path = r'Q:\\Downloads\\stanford_campus_dataset\\annotations'\n",
    "markers_paths = list(Path(SDD_path).glob(r'*\\*\\markers.png'))\n",
    "markers_paths"
   ]
  },
  {
   "cell_type": "code",
   "execution_count": null,
   "metadata": {},
   "outputs": [],
   "source": []
  },
  {
   "cell_type": "code",
   "execution_count": 72,
   "metadata": {},
   "outputs": [],
   "source": [
    "annotation.to_csv(r'Z:\\test tasks\\Sber_robo\\SDD_images\\new_anns.csv', index=False)"
   ]
  }
 ],
 "metadata": {
  "kernelspec": {
   "display_name": "Python 3",
   "language": "python",
   "name": "python3"
  },
  "language_info": {
   "codemirror_mode": {
    "name": "ipython",
    "version": 3
   },
   "file_extension": ".py",
   "mimetype": "text/x-python",
   "name": "python",
   "nbconvert_exporter": "python",
   "pygments_lexer": "ipython3",
   "version": "3.7.9"
  }
 },
 "nbformat": 4,
 "nbformat_minor": 2
}
